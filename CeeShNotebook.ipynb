{
 "cells": [
  {
   "cell_type": "code",
   "execution_count": null,
   "metadata": {
    "dotnet_interactive": {
     "language": "csharp"
    },
    "polyglot_notebook": {
     "kernelName": "csharp"
    }
   },
   "outputs": [],
   "source": [
    "//using MicrosoftGraph;\n"
   ]
  },
  {
   "cell_type": "code",
   "execution_count": 3,
   "metadata": {
    "dotnet_interactive": {
     "language": "csharp"
    },
    "polyglot_notebook": {
     "kernelName": "csharp"
    }
   },
   "outputs": [],
   "source": [
    "public static class Helpers\n",
    "{\n",
    "    public static string ArrayToString(IEnumerable<object> obs, int? size = null) {\n",
    "            if (obs == null) return \"<null>\";\n",
    "\n",
    "            size = size ?? obs.Count();\n",
    "            System.Text.StringBuilder sb = new System.Text.StringBuilder();\n",
    "            sb.Append(\"[\");\n",
    "            int i = 0;\n",
    "            foreach(object o in obs) {\n",
    "                var endToken = (i == (size - 1)) ? string.Empty : \", \";\n",
    "                sb.AppendFormat(\"{0}{1}\", o == null ? \"<null>\" : o, endToken);\n",
    "                if (++i == size) break;\n",
    "            }\n",
    "            sb.Append(\"]\");\n",
    "\n",
    "            return sb.ToString();\n",
    "    }\n",
    "}\n",
    "public static string Str(this IEnumerable<object> arr, int? size = null) {\n",
    "    return Helpers.ArrayToString(arr, size);\n",
    "}"
   ]
  }
 ],
 "metadata": {
  "kernelspec": {
   "display_name": ".NET (C#)",
   "language": "C#",
   "name": ".net-csharp"
  },
  "language_info": {
   "name": "polyglot-notebook"
  },
  "polyglot_notebook": {
   "kernelInfo": {
    "defaultKernelName": "csharp",
    "items": [
     {
      "aliases": [],
      "languageName": "csharp",
      "name": "csharp"
     }
    ]
   }
  }
 },
 "nbformat": 4,
 "nbformat_minor": 2
}
